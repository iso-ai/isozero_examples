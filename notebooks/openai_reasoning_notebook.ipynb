{
  "cells": [
    {
      "cell_type": "markdown",
      "metadata": {
        "id": "view-in-github",
        "colab_type": "text"
      },
      "source": [
        "<a href=\"https://colab.research.google.com/github/iso-ai/isozero_examples/blob/main/notebooks/openai_reasoning_notebook.ipynb\" target=\"_parent\"><img src=\"https://colab.research.google.com/assets/colab-badge.svg\" alt=\"Open In Colab\"/></a>"
      ]
    },
    {
      "cell_type": "markdown",
      "metadata": {
        "id": "2-ljGfU2cJ3P"
      },
      "source": [
        "# Task Reasoning with OpenAI using the Reason Simulation\n",
        "\n",
        "This notebook demonstrates how OpenAI can solve a complex reasoning task using the IsoZero SDK."
      ]
    },
    {
      "cell_type": "code",
      "source": [
        "!pip install isozero\n",
        "!pip install tiktoken"
      ],
      "metadata": {
        "id": "G_jMMQ2DchsB"
      },
      "execution_count": null,
      "outputs": []
    },
    {
      "cell_type": "code",
      "execution_count": null,
      "metadata": {
        "id": "GjZxjc_UcJ3Q"
      },
      "outputs": [],
      "source": [
        "import os\n",
        "import logging\n",
        "from typing import Dict, Any\n",
        "from google.colab import userdata\n",
        "\n",
        "# Import the necessary modules\n",
        "from isozero.reason_sim import OpenAIAgent, ReasonSimulation, ReasonSimulationWrapper\n",
        "\n",
        "# Set up logging\n",
        "logging.basicConfig(level=logging.INFO, format='%(asctime)s - %(name)s - %(levelname)s - %(message)s')\n",
        "logger = logging.getLogger(__name__)\n",
        "\n",
        "\n",
        "# Initialize AI agents\n",
        "openai_agent = OpenAIAgent(api_key=userdata.get(\"OPENAI_API_KEY\"), model=\"gpt-4o-mini\")\n",
        "\n",
        "logger.info(\"OpenAI agent initialized successfully.\")"
      ]
    },
    {
      "cell_type": "markdown",
      "metadata": {
        "id": "-zrwwdoFcJ3Q"
      },
      "source": [
        "## Define the Task\n",
        "\n",
        "Here, we define the question of the year: \"How many r's is in the word 'strawberry'?\n"
      ]
    },
    {
      "cell_type": "code",
      "execution_count": null,
      "metadata": {
        "id": "_rCLgxH_cJ3Q"
      },
      "outputs": [],
      "source": [
        "new_task = \"\"\"How many r\\'s is in the word strawberry?\"\"\"\n",
        "\n",
        "print(\"New Task:\")\n",
        "print(new_task)"
      ]
    },
    {
      "cell_type": "markdown",
      "metadata": {
        "id": "uAwkqZbycJ3R"
      },
      "source": [
        "## Create a Simulation Runner Function\n",
        "\n",
        "We'll create a function to run the simulation for OpenAI using the SimulationWrapper."
      ]
    },
    {
      "cell_type": "code",
      "execution_count": null,
      "metadata": {
        "id": "VWFEYCnzcJ3R"
      },
      "outputs": [],
      "source": [
        "def run_simulation(agent: Any, agent_name: str, task: str, max_steps: int = 5) -> Dict[str, Any]:\n",
        "    simulation = ReasonSimulation(task, max_steps=max_steps)\n",
        "    wrapper = ReasonSimulationWrapper(agent, simulation)\n",
        "\n",
        "    logger.info(f\"Starting simulation for {agent_name}\")\n",
        "\n",
        "    for step in range(max_steps):\n",
        "        state = wrapper.step()\n",
        "        logger.info(f\"{agent_name} - Step {step + 1} completed\")\n",
        "\n",
        "    final_state = wrapper.render()\n",
        "    logger.info(f\"Simulation for {agent_name} completed\")\n",
        "\n",
        "    wrapper.close()\n",
        "    return final_state"
      ]
    },
    {
      "cell_type": "markdown",
      "metadata": {
        "id": "Ga3nmiYhcJ3R"
      },
      "source": [
        "## Run Simulation for OpenAI"
      ]
    },
    {
      "cell_type": "code",
      "source": [
        "# Run Sim: OpenAI\n",
        "openai_result = run_simulation(openai_agent, \"OpenAI\", new_task)"
      ],
      "metadata": {
        "id": "Ew6aIW_weLiy"
      },
      "execution_count": null,
      "outputs": []
    },
    {
      "cell_type": "markdown",
      "metadata": {
        "id": "ce2_w8kxcJ3R"
      },
      "source": [
        "## Display and Compare Results"
      ]
    },
    {
      "cell_type": "code",
      "source": [
        "def display_result(result: str, agent_name: str):\n",
        "    print(f\"\\n{agent_name} Analysis:\")\n",
        "    print(result)\n",
        "    print(\"-\" * 80)"
      ],
      "metadata": {
        "id": "0s_16D-kdvWK"
      },
      "execution_count": null,
      "outputs": []
    },
    {
      "cell_type": "code",
      "source": [
        "# Display Result: OpenAI\n",
        "display_result(openai_result, \"OpenAI\")"
      ],
      "metadata": {
        "id": "YGB4bFNVd8bl"
      },
      "execution_count": null,
      "outputs": []
    }
  ],
  "metadata": {
    "kernelspec": {
      "display_name": "base",
      "language": "python",
      "name": "python3"
    },
    "language_info": {
      "codemirror_mode": {
        "name": "ipython",
        "version": 3
      },
      "file_extension": ".py",
      "mimetype": "text/x-python",
      "name": "python",
      "nbconvert_exporter": "python",
      "pygments_lexer": "ipython3",
      "version": "3.8.8"
    },
    "vscode": {
      "interpreter": {
        "hash": "f57ffd79f07881f90ffd84d1ee449596c2bc3e88fee236dc006178dc960802e5"
      }
    },
    "colab": {
      "provenance": [],
      "include_colab_link": true
    }
  },
  "nbformat": 4,
  "nbformat_minor": 0
}